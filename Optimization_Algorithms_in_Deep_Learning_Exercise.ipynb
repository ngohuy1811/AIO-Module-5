{
  "nbformat": 4,
  "nbformat_minor": 0,
  "metadata": {
    "colab": {
      "provenance": [],
      "authorship_tag": "ABX9TyMGUoe361zALcCdBgJ6NE1K",
      "include_colab_link": true
    },
    "kernelspec": {
      "name": "python3",
      "display_name": "Python 3"
    },
    "language_info": {
      "name": "python"
    }
  },
  "cells": [
    {
      "cell_type": "markdown",
      "metadata": {
        "id": "view-in-github",
        "colab_type": "text"
      },
      "source": [
        "<a href=\"https://colab.research.google.com/github/ngohuy1811/AIO-Module-5/blob/main/Optimization_Algorithms_in_Deep_Learning_Exercise.ipynb\" target=\"_parent\"><img src=\"https://colab.research.google.com/assets/colab-badge.svg\" alt=\"Open In Colab\"/></a>"
      ]
    },
    {
      "cell_type": "markdown",
      "source": [
        "# **GD**"
      ],
      "metadata": {
        "id": "lZi25TVqiJNA"
      }
    },
    {
      "cell_type": "code",
      "source": [
        "import numpy as np"
      ],
      "metadata": {
        "id": "V0wl4Zsyg8Kr"
      },
      "execution_count": 1,
      "outputs": []
    },
    {
      "cell_type": "code",
      "execution_count": null,
      "metadata": {
        "id": "ErQ69qIRYBBM"
      },
      "outputs": [],
      "source": [
        "def df_w(W):\n",
        "    \"\"\"\n",
        "    Thực hiện tính gradient của dw1 và dw2\n",
        "    Arguments:\n",
        "    W -- np.array [w1, w2]\n",
        "    Returns:\n",
        "    dW -- np.array [dw1, dw2], array chứa giá trị đạo hàm theo w1 và w2\n",
        "    \"\"\"\n",
        "    dw1 = 0.2 * W[0]\n",
        "    dw2 = 4 * W[1]\n",
        "    dW = np.array([dw1, dw2])\n",
        "    return dW"
      ]
    },
    {
      "cell_type": "code",
      "source": [
        "def sgd(W, dW, lr):\n",
        "    W = W - lr * dW\n",
        "    return W"
      ],
      "metadata": {
        "id": "ANZUm_MZhWD7"
      },
      "execution_count": null,
      "outputs": []
    },
    {
      "cell_type": "code",
      "source": [
        "def train_p1(optimizer, lr, epochs):\n",
        "    \"\"\"\n",
        "    Thực hiện tìm điểm minimum của function (1) dựa vào thuật toán\n",
        "    được truyền vào từ optimizer\n",
        "    Arguments:\n",
        "    optimizer : function thực hiện thuật toán optimization cụ thể\n",
        "    lr -- float: learning rate\n",
        "    epoch -- int: số lượng lần (epoch) lặp để tìm điểm minimum\n",
        "    Returns:\n",
        "    results -- list: list các cặp điểm [w1, w2] sau mỗi epoch (mỗi lần cập nhật)\n",
        "    \"\"\"\n",
        "    # Initial point\n",
        "    W = np.array([-5, -2], dtype=np.float32)\n",
        "    # List of results\n",
        "    results = [W]\n",
        "    for epoch in range(epochs):\n",
        "        # Tính gradient dW\n",
        "        dW = df_w(W)\n",
        "        # Cập nhật tham số W bằng thuật toán optimizer\n",
        "        W = optimizer(W, dW, lr)\n",
        "        # Lưu kết quả vào list results\n",
        "        results.append(W)\n",
        "    return results"
      ],
      "metadata": {
        "id": "3xuBka3CFHXQ"
      },
      "execution_count": null,
      "outputs": []
    },
    {
      "cell_type": "code",
      "source": [
        "gd1 = train_p1(sgd, 0.4, 2)\n",
        "print(gd1)"
      ],
      "metadata": {
        "colab": {
          "base_uri": "https://localhost:8080/"
        },
        "id": "mlz_L4SaGcel",
        "outputId": "5f745222-7ab0-44bf-b878-c3a42cd6c9a5"
      },
      "execution_count": null,
      "outputs": [
        {
          "output_type": "stream",
          "name": "stdout",
          "text": [
            "[array([-5., -2.], dtype=float32), array([-4.6,  1.2]), array([-4.232, -0.72 ])]\n"
          ]
        }
      ]
    },
    {
      "cell_type": "code",
      "source": [
        "gd2 = train_p1(sgd, 0.4, 30)\n",
        "print(gd2)"
      ],
      "metadata": {
        "colab": {
          "base_uri": "https://localhost:8080/"
        },
        "id": "matgEBStHTWI",
        "outputId": "3d5484f5-68df-4061-dbc2-0125dff84503"
      },
      "execution_count": null,
      "outputs": [
        {
          "output_type": "stream",
          "name": "stdout",
          "text": [
            "[array([-5., -2.], dtype=float32), array([-4.6,  1.2]), array([-4.232, -0.72 ]), array([-3.89344,  0.432  ]), array([-3.5819648, -0.2592   ]), array([-3.29540762,  0.15552   ]), array([-3.03177501, -0.093312  ]), array([-2.78923301,  0.0559872 ]), array([-2.56609437, -0.03359232]), array([-2.36080682,  0.02015539]), array([-2.17194227, -0.01209324]), array([-1.99818689,  0.00725594]), array([-1.83833194, -0.00435356]), array([-1.69126538,  0.00261214]), array([-1.55596415, -0.00156728]), array([-1.43148702e+00,  9.40369969e-04]), array([-1.31696806e+00, -5.64221981e-04]), array([-1.21161061e+00,  3.38533189e-04]), array([-1.11468176e+00, -2.03119913e-04]), array([-1.02550722e+00,  1.21871948e-04]), array([-9.43466646e-01, -7.31231688e-05]), array([-8.67989314e-01,  4.38739013e-05]), array([-7.98550169e-01, -2.63243408e-05]), array([-7.34666155e-01,  1.57946045e-05]), array([-6.75892863e-01, -9.47676268e-06]), array([-6.21821434e-01,  5.68605761e-06]), array([-5.72075719e-01, -3.41163456e-06]), array([-5.26309662e-01,  2.04698074e-06]), array([-4.84204889e-01, -1.22818844e-06]), array([-4.45468498e-01,  7.36913066e-07]), array([-4.09831018e-01, -4.42147839e-07])]\n"
          ]
        }
      ]
    },
    {
      "cell_type": "markdown",
      "source": [
        "# **GD + Momentum**"
      ],
      "metadata": {
        "id": "E03b6tKAiTL3"
      }
    },
    {
      "cell_type": "code",
      "source": [
        "def df_w(W):\n",
        "    \"\"\"\n",
        "    Thực hiện tính gradient của dw1 và dw2\n",
        "    Arguments:\n",
        "    W -- np.array [w1, w2]\n",
        "    Returns:\n",
        "    dW -- np.array [dw1, dw2], array chứa giá trị đạo hàm theo w1 và w2\n",
        "    \"\"\"\n",
        "    dw1 = 0.2 * W[0]\n",
        "    dw2 = 4 * W[1]\n",
        "    dW = np.array([dw1, dw2])\n",
        "    return dW"
      ],
      "metadata": {
        "id": "Uhgx4jU2iYQO"
      },
      "execution_count": null,
      "outputs": []
    },
    {
      "cell_type": "code",
      "source": [
        "def sgd_momentum(W, dW, lr, V, beta):\n",
        "    V = beta * V + (1 - beta) * dW\n",
        "    W = W - lr * V\n",
        "    return W, V"
      ],
      "metadata": {
        "id": "NziCTU9wizS-"
      },
      "execution_count": null,
      "outputs": []
    },
    {
      "cell_type": "code",
      "source": [
        "def train_p2(optimizer, lr, epochs):\n",
        "    \"\"\"\n",
        "    Thực hiện tìm điểm minimum của function (1) dựa vào thuật toán\n",
        "    được truyền vào từ optimizer\n",
        "    Arguments:\n",
        "    optimize : function thực hiện thuật toán optimization cụ thể\n",
        "    lr -- float: learning rate\n",
        "    epochs -- int: số lượng lần (epoch) lặp để tìm điểm minimum\n",
        "    Returns:\n",
        "    results -- list: list các cặp điểm [w1, w2] sau mỗi epoch (mỗi lần cập nhật)\n",
        "    \"\"\"\n",
        "    # initial\n",
        "    W = np.array([-5, -2], dtype=np.float32)\n",
        "    V = np.array([0, 0], dtype=np.float32)\n",
        "    results = [W]\n",
        "    # Initial point\n",
        "    for epoch in range(epochs):\n",
        "        # Tính gradient dW\n",
        "        dW = df_w(W)\n",
        "        # Cập nhật tham số W bằng thuật toán optimizer\n",
        "        W, V = optimizer(W, dW, lr, V, beta)\n",
        "        # Lưu kết quả vào list results\n",
        "        results.append(W)\n",
        "    return results"
      ],
      "metadata": {
        "id": "Lrv1T3xKjmr1"
      },
      "execution_count": null,
      "outputs": []
    },
    {
      "cell_type": "code",
      "source": [
        "beta = 0.5\n",
        "gd_momen1 = train_p2(sgd_momentum, 0.6, 2)\n",
        "print(gd_momen1)"
      ],
      "metadata": {
        "colab": {
          "base_uri": "https://localhost:8080/"
        },
        "id": "NNU0fbb1krAS",
        "outputId": "c44b0d53-6f1c-4487-cac6-34dc1a332546"
      },
      "execution_count": null,
      "outputs": [
        {
          "output_type": "stream",
          "name": "stdout",
          "text": [
            "[array([-5., -2.], dtype=float32), array([-4.7,  0.4]), array([-4.268,  1.12 ])]\n"
          ]
        }
      ]
    },
    {
      "cell_type": "code",
      "source": [
        "beta = 0.5\n",
        "gd_momen2 = train_p2(sgd_momentum, 0.6, 30)\n",
        "print(gd_momen2)"
      ],
      "metadata": {
        "colab": {
          "base_uri": "https://localhost:8080/"
        },
        "id": "ExhPst4QlJjs",
        "outputId": "e3e4a914-0820-406b-a220-486248fad3f6"
      },
      "execution_count": null,
      "outputs": [
        {
          "output_type": "stream",
          "name": "stdout",
          "text": [
            "[array([-5., -2.], dtype=float32), array([-4.7,  0.4]), array([-4.268,  1.12 ]), array([-3.79592,  0.136  ]), array([-3.3321248, -0.5192   ]), array([-2.90029971, -0.22376   ]), array([-2.51036919,  0.192472  ]), array([-2.16478177,  0.1696216 ]), array([-1.86210116, -0.04534952]), array([-1.59903478, -0.09841566]), array([-1.37155951, -0.00684994]), array([-1.1755283 ,  0.04715285]), array([-1.006981  ,  0.01757082]), array([-0.86228849, -0.01830518]), array([-0.73820492, -0.01427696]), array([-0.63187084,  0.0048695 ]), array([-0.54079155,  0.00859933]), array([-4.62804416e-01,  1.45050014e-04]), array([-0.39604258, -0.00425615]), array([-0.33889911, -0.00134937]), array([-0.28999343,  0.00172326]), array([-0.24814098,  0.00119166]), array([-0.2123263 , -0.00050413]), array([-0.18167938, -0.00074707]), array([-1.55455157e-01,  2.79448010e-05]), array([-0.13301574,  0.00038192]), array([-1.13815082e-01,  1.00603444e-04]), array([-0.09738585, -0.00016078]), array([-8.33280829e-02, -9.85353344e-05]), array([-7.12995144e-02,  5.08287536e-05]), array([-6.10072592e-02,  6.45162933e-05])]\n"
          ]
        }
      ]
    },
    {
      "cell_type": "markdown",
      "source": [
        "# **RMSProp**"
      ],
      "metadata": {
        "id": "CTl2sGCpJzWK"
      }
    },
    {
      "cell_type": "code",
      "source": [
        "def df_w(W):\n",
        "    dw1 = 0.2 * W[0]\n",
        "    dw2 = 4 * W[1]\n",
        "    dW = np.array([dw1, dw2])\n",
        "    return dW"
      ],
      "metadata": {
        "id": "fNzDITD-J5Wi"
      },
      "execution_count": 2,
      "outputs": []
    },
    {
      "cell_type": "code",
      "source": [
        "def RMSProp(W, dW, lr, S, gamma):\n",
        "    epsilon = 1e-6\n",
        "    S = gamma*S + (1-gamma)*(dW**2)\n",
        "    W = W - lr*(dW/(np.sqrt(S+epsilon)))\n",
        "    return W, S"
      ],
      "metadata": {
        "id": "WRAbyYAqKg1h"
      },
      "execution_count": 5,
      "outputs": []
    },
    {
      "cell_type": "code",
      "source": [
        "def train_RMS(optimizer, lr, epochs):\n",
        "    # initial\n",
        "    W = np.array([-5, -2], dtype=np.float32)\n",
        "    S = np.array([0, 0], dtype=np.float32)\n",
        "    results = [W]\n",
        "    # Initial point\n",
        "    for epoch in range(epochs):\n",
        "        # Tính gradient dW\n",
        "        dW = df_w(W)\n",
        "        # Cập nhật tham số W bằng thuật toán optimizer\n",
        "        W, S = optimizer(W, dW, lr, S, gamma)\n",
        "        # Lưu kết quả vào list results\n",
        "        results.append(W)\n",
        "    return results"
      ],
      "metadata": {
        "id": "gKh9e8Z2L6dR"
      },
      "execution_count": 6,
      "outputs": []
    },
    {
      "cell_type": "code",
      "source": [
        "gamma = 0.9\n",
        "gd_RMS = train_RMS(RMSProp, 0.3, 2)\n",
        "print(gd_RMS)"
      ],
      "metadata": {
        "colab": {
          "base_uri": "https://localhost:8080/"
        },
        "id": "ltWsnnovMD-o",
        "outputId": "7a8507cd-2307-44ad-f139-2a6d5891e6ed"
      },
      "execution_count": 7,
      "outputs": [
        {
          "output_type": "stream",
          "name": "stdout",
          "text": [
            "[array([-5., -2.], dtype=float32), array([-4.05132145, -1.05131678]), array([-3.43519754, -0.59152343])]\n"
          ]
        }
      ]
    },
    {
      "cell_type": "code",
      "source": [
        "gamma = 0.9\n",
        "gd_RMS = train_RMS(RMSProp, 0.3, 30)\n",
        "print(gd_RMS)"
      ],
      "metadata": {
        "colab": {
          "base_uri": "https://localhost:8080/"
        },
        "id": "C5pIFjM9Njs4",
        "outputId": "b9d6ac83-0a80-4c16-fc9d-6be203443c3d"
      },
      "execution_count": 8,
      "outputs": [
        {
          "output_type": "stream",
          "name": "stdout",
          "text": [
            "[array([-5., -2.], dtype=float32), array([-4.05132145, -1.05131678]), array([-3.43519754, -0.59152343]), array([-2.95893693, -0.3294394 ]), array([-2.56546289, -0.17756482]), array([-2.22920552, -0.09163256]), array([-1.93626752, -0.04494499]), array([-1.67817686, -0.02081423]), array([-1.44934985, -0.00903559]), array([-1.24588199, -0.00364591]), array([-1.06490301, -0.00135351]), array([-9.04202260e-01, -4.56444431e-04]), array([-7.61996495e-01, -1.37562928e-04]), array([-6.36778499e-01, -3.62601019e-05]), array([-5.27215237e-01, -8.11337456e-06]), array([-4.32078505e-01, -1.47473412e-06]), array([-3.50198507e-01, -2.02783991e-07]), array([-2.80434649e-01, -1.84231187e-08]), array([-2.21659834e-01, -7.67742748e-10]), array([-1.72755512e-01,  7.80451998e-12]), array([-1.32615134e-01, -5.05794800e-13]), array([-1.00153779e-01,  6.19123501e-14]), array([-7.43217708e-02, -1.13373781e-14]), array([-5.41201278e-02,  2.80166702e-15]), array([-3.86159157e-02, -8.81341191e-16]), array([-2.69558066e-02,  3.39921117e-16]), array([-1.83765633e-02, -1.56581731e-16]), array([-1.22116093e-02,  8.44994985e-17]), array([-7.89331794e-03, -5.26376595e-17]), array([-4.95110261e-03,  3.74107995e-17]), array([-3.00577081e-03, -3.00506084e-17])]\n"
          ]
        }
      ]
    },
    {
      "cell_type": "markdown",
      "source": [
        "# **Adam**"
      ],
      "metadata": {
        "id": "rSsuRMAiN0u3"
      }
    },
    {
      "cell_type": "code",
      "source": [
        "def df_w(W):\n",
        "    dw1 = 0.2 * W[0]\n",
        "    dw2 = 4 * W[1]\n",
        "    dW = np.array([dw1, dw2])\n",
        "    return dW"
      ],
      "metadata": {
        "id": "aMu00pFfN3On"
      },
      "execution_count": 9,
      "outputs": []
    },
    {
      "cell_type": "code",
      "source": [
        "def Adam(W, dW, lr, V, S, beta1, beta2,t):\n",
        "    \"\"\"\n",
        "    Thực hiện thuật tóan Adam để update w1 và w2\n",
        "    Arguments:\n",
        "    W -- np.array: [w1, w2]\n",
        "    dW -- np.array: [dw1, dw2], array chứa giá trị đạo hàm theo w1 và w2\n",
        "    lr -- float: learning rate\n",
        "    V -- np.array: [v1, v2] Exponentially weighted averages gradients\n",
        "    S -- np.array: [s1, s2] Exponentially weighted averages bình phương gradients\n",
        "    beta1\n",
        "    beta2 -- float: hệ số long-range average cho S\n",
        "    t -- int: lần thứ t update (bắt đầu bằng 1)\n",
        "    Returns:\n",
        "    W -- np.array: [w1, w2] w1 và w2 sau khi đã update\n",
        "    V -- np.array: [v1, v2] Exponentially weighted averages gradients sau khi đã cập nhật\n",
        "    S -- np.array: [s1, s2] Exponentially weighted averages bình phương gradients sau khi đã cập nhật\n",
        "    \"\"\"\n",
        "    epsilon = 1e-6\n",
        "\n",
        "    V = beta1*V + (1-beta1)*dW\n",
        "    S = beta2*S + (1-beta2)*(dW**2)\n",
        "    V_corr =  V/(1-beta1**t)\n",
        "    S_corr =  S/(1-beta2**t)\n",
        "    W = W - lr*(V_corr/(np.sqrt(S_corr)+epsilon))\n",
        "    return W, V, S"
      ],
      "metadata": {
        "id": "3ygzskD-OFGJ"
      },
      "execution_count": 22,
      "outputs": []
    },
    {
      "cell_type": "code",
      "source": [
        "def train_Adam(optimizer, lr, epochs):\n",
        "    beta1 = 0.9\n",
        "    beta2 = 0.999\n",
        "    t = 1\n",
        "    W = np.array([-5, -2], dtype=np.float32)\n",
        "    V = np.array([0, 0], dtype=np.float32)\n",
        "    S = np.array([0, 0], dtype=np.float32)\n",
        "    results = [W]\n",
        "\n",
        "    for epoch in range(epochs):\n",
        "        dW = df_w(W)\n",
        "        W, V, S = optimizer(W, dW, lr, V, S, beta1, beta2, t)\n",
        "        results.append(W)\n",
        "        t += 1\n",
        "\n",
        "    return results"
      ],
      "metadata": {
        "id": "o0pMYwx0OJF_"
      },
      "execution_count": 23,
      "outputs": []
    },
    {
      "cell_type": "code",
      "source": [
        "Adam_op = train_Adam(Adam, 0.2, 2)\n",
        "print(Adam_op)"
      ],
      "metadata": {
        "colab": {
          "base_uri": "https://localhost:8080/"
        },
        "id": "ha0EEeOcXRyo",
        "outputId": "44d7eba5-60b7-4648-ccbd-c8c5c43d3c3a"
      },
      "execution_count": 24,
      "outputs": [
        {
          "output_type": "stream",
          "name": "stdout",
          "text": [
            "[array([-5., -2.], dtype=float32), array([-4.8000002 , -1.80000002]), array([-4.60025478, -1.60082451])]\n"
          ]
        }
      ]
    },
    {
      "cell_type": "code",
      "source": [
        "Adam_op = train_Adam(Adam, 0.2, 30)\n",
        "print(Adam_op)"
      ],
      "metadata": {
        "colab": {
          "base_uri": "https://localhost:8080/"
        },
        "id": "JtKv06sTYEUJ",
        "outputId": "21c3f1c0-c8aa-45f1-9720-9dd7e4e8e0d9"
      },
      "execution_count": 25,
      "outputs": [
        {
          "output_type": "stream",
          "name": "stdout",
          "text": [
            "[array([-5., -2.], dtype=float32), array([-4.8000002 , -1.80000002]), array([-4.60025478, -1.60082451]), array([-4.40094848, -1.40317262]), array([-4.20227764, -1.20787822]), array([-4.00445033, -1.01592745]), array([-3.80768638, -0.82847307]), array([-3.61221732, -0.64684159]), array([-3.41828623, -0.47252765]), array([-3.22614739, -0.30716934]), array([-3.03606592, -0.15249855]), array([-2.84831706, -0.01026326]), array([-2.66318543,  0.11787552]), array([-2.480964  ,  0.23046161]), array([-2.30195279,  0.3263587 ]), array([-2.12645742,  0.40484195]), array([-1.95478732,  0.46564961]), array([-1.7872537 ,  0.50898799]), array([-1.62416726,  0.53549442]), array([-1.46583566,  0.54617144]), array([-1.31256067,  0.54230812]), array([-1.16463526,  0.52540206]), array([-1.02234036,  0.4970906 ]), array([-0.88594163,  0.4590951 ]), array([-0.75568617,  0.41317781]), array([-0.63179919,  0.3611089 ]), array([-0.51448089,  0.30464048]), array([-0.40390346,  0.24548409]), array([-0.30020842,  0.18528918]), array([-0.20350426,  0.12562074]), array([-0.11386457,  0.06793529])]\n"
          ]
        }
      ]
    }
  ]
}